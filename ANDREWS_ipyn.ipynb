{
  "nbformat": 4,
  "nbformat_minor": 0,
  "metadata": {
    "colab": {
      "name": "ANDREWS.ipyn",
      "provenance": []
    },
    "kernelspec": {
      "name": "python3",
      "display_name": "Python 3"
    },
    "language_info": {
      "name": "python"
    }
  },
  "cells": [
    {
      "cell_type": "code",
      "metadata": {
        "colab": {
          "base_uri": "https://localhost:8080/"
        },
        "id": "gZBazvrhiPCR",
        "outputId": "df4b5eb7-15cc-49d6-cfe9-7fc8ad8d25b1"
      },
      "source": [
        "import requests\n",
        "from datetime import datetime\n",
        "api_key = 'a8d67a3340f4d0db2e7c5c792982ddd1'\n",
        "location = input(\"Enter the city name: \")\n",
        "complete_api_link = \"https://api.openweathermap.org/data/2.5/weather?q=\"+location+\"&appid=\"+api_key\n",
        "api_link = requests.get(complete_api_link)\n",
        "api_data = api_link.json()\n",
        "temp_city = ((api_data['main']['temp']))\n",
        "weather_desc = api_data['weather'][0]['description']\n",
        "hmdt = api_data['main']['humidity']\n",
        "wind_spd = api_data['wind']['speed']\n",
        "date_time = datetime.now().strftime(\"%d %b %y | %I:%M:%S %p\")\n",
        "\n",
        "print(\"----------------------------------------------------------------\")\n",
        "print(\"Weather Stats for - {} || {}\".format(location.upper(), date_time))\n",
        "print(\"----------------------------------------------------------------\")\n",
        "\n",
        "print(\"Curret temperature is: {:.2f} deg F\".format(temp_city))\n",
        "print(\"Current weather desc :\",weather_desc)\n",
        "print(\"Current Humidity     :\",hmdt, '%')\n",
        "print(\"Current wind speed   :\",wind_spd ,'kmph')"
      ],
      "execution_count": 3,
      "outputs": [
        {
          "output_type": "stream",
          "text": [
            "Enter the city name: CHENNAI\n",
            "----------------------------------------------------------------\n",
            "Weather Stats for - CHENNAI || 23 Jun 21 | 03:44:17 PM\n",
            "----------------------------------------------------------------\n",
            "Curret temperature is: 303.13 deg F\n",
            "Current weather desc : haze\n",
            "Current Humidity     : 82 %\n",
            "Current wind speed   : 1.79 kmph\n"
          ],
          "name": "stdout"
        }
      ]
    }
  ]
}